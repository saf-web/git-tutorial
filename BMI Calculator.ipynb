{
 "cells": [
  {
   "cell_type": "markdown",
   "id": "55c551d5",
   "metadata": {},
   "source": [
    "# BMI Calculator"
   ]
  },
  {
   "cell_type": "code",
   "execution_count": 5,
   "id": "7cfec95b",
   "metadata": {},
   "outputs": [
    {
     "name": "stdout",
     "output_type": "stream",
     "text": [
      "What's your name: Reagan\n",
      "Hello Reagan. Welcome to BMI calc\n",
      "Insert the following info\n",
      "Enter your Weight: 105\n",
      "Enter your Height: 1.5\n",
      "-----------BMI RESULTS-------\n",
      "Your BMI is: 46.666666666666664\n",
      "Overweight\n"
     ]
    }
   ],
   "source": [
    "name = input(\"What's your name: \")\n",
    "print(f\"Hello {name}. Welcome to BMI calc\")\n",
    "print(\"Insert the following info\")\n",
    "weight = float(input(\"Enter your Weight: \"))\n",
    "height = float(input(\"Enter your Height: \"))\n",
    "\n",
    "BMI = weight/(height*height)\n",
    "print(\"-----------BMI RESULTS-------\")\n",
    "print(f\"Your BMI is: {BMI}\")\n",
    "\n",
    "if BMI > 25:\n",
    "      print(\"Overweight\")\n",
    "elif BMI < 18:\n",
    "      print(\"Underweight\")\n",
    "else:\n",
    "      print(\"normal\")"
   ]
  },
  {
   "cell_type": "code",
   "execution_count": null,
   "id": "bccc995c",
   "metadata": {},
   "outputs": [],
   "source": []
  },
  {
   "cell_type": "code",
   "execution_count": null,
   "id": "415f188e",
   "metadata": {},
   "outputs": [],
   "source": []
  }
 ],
 "metadata": {
  "kernelspec": {
   "display_name": "Python 3 (ipykernel)",
   "language": "python",
   "name": "python3"
  },
  "language_info": {
   "codemirror_mode": {
    "name": "ipython",
    "version": 3
   },
   "file_extension": ".py",
   "mimetype": "text/x-python",
   "name": "python",
   "nbconvert_exporter": "python",
   "pygments_lexer": "ipython3",
   "version": "3.11.5"
  }
 },
 "nbformat": 4,
 "nbformat_minor": 5
}
